{
 "cells": [
  {
   "cell_type": "markdown",
   "id": "4177bf15",
   "metadata": {},
   "source": [
    "# Antra egzamino užduotis\n",
    "https://www.nec.lt/failai/7417_IT-VBE-1_2018-GALUTINE.pdf\n",
    "## Slidininkai\n",
    "\n",
    "Slidininkai 10 km rungtyje startuoja pagal atrankos etapo rezultatus.\n",
    "Slidininkas startuoja tiek laiko vėliau už lyderį, kiek laiko nuo jo yra\n",
    "atsilikęs.\n",
    "\n",
    "Parašykite programą, kuri pateiktų slidininkų rezultatų sąrašą pagal trasoje\n",
    "sugaištą laiką didėjančiai. Per vienodą laiką nušliuožę slidininkai turi būti\n",
    "rašomi abėcėliškai pagal simbolių eilutę, kurioje yra slidininką\n",
    "identifikuojanti informacija.\n",
    "\n",
    "**Pradiniai duomenys**\n",
    "\n",
    "Duomenys pateikiami tekstiniame faile `U2.txt`. Visi skaičiai yra sveikieji.\n",
    "\n",
    "Duomenų faile įrašyta:\n",
    "\n",
    "- Pirmoje eilutėje užrašytas startuojančių slidininkų skaičius `n` $(1 \\leq n\n",
    "  \\leq 30)$\n",
    "\n",
    "- Tolesnėse ``n`` eilučių atsitiktine tvarka surašyti slidininkų starto\n",
    "  duomenys.  Kiekvieno slidininko duomenys užrašyti atskiroje eilutėje: pirmose\n",
    "  20 pozicijų yra simbolių eilutė, kurioje pateikta slidininką identifikuojanti\n",
    "  informacija; po to starto laikas: valanda, minutė ir sekundė, atskirtos vienu\n",
    "  tarpo simboliu.\n",
    "\n",
    "- Toliau užrašytas finišavusių slidininkų skaičius `m` $(1 \\leq m \\leq 30)$.\n",
    "\n",
    "- Tolesnėse ``m`` eilučių surašyti slidininkų finišo duomenys. Kiekvieno slidininko\n",
    "  duomenys užrašyti atskiroje eilutėje: pirmose 20 pozicijų yra simbolių\n",
    "  eilutė, kurioje pateikta slidininką identifikuojanti informacija; po to\n",
    "  finišo laikas: valanda, minutė ir sekundė, atskirtos vienu tarpo simboliu.\n",
    "\n",
    "**Rezultatai**\n",
    "\n",
    "Rezultatus įrašykite tekstiniame faile `U2rez.txt`.\n",
    "\n",
    "- Vienoje eilutėje užrašykite vieno slidininko duomenis: pirmose 20 pozicijų –\n",
    "  simbolių eilutę, kurioje  pateikta  slidininką  identifikuojanti informacija,\n",
    "  atskirta  vienu  tarpo  simboliu,  po  to slidininko rezultatas:  minutės  ir\n",
    "  sekundės,  atskirtos  vienu  tarpo  simboliu. 10 km rungtyje maksimalus\n",
    "  slidininko sugaištas laikas yra  ne  daugiau kaip valanda. Jeigu  slidininkas\n",
    "  nepasiekė finišo (jo nėra finišavusiųjų sąraše), tai rezultatų sąraše jo\n",
    "  neturi būti.\n",
    "\n",
    "- Rezultatai turi būti surikiuoti pagal trasoje sugaištą laiką didėjančiai. Per\n",
    "  vienodą laiką nušliuožę slidininkai  rašomi  abėcėliškai  pagal  simbolių\n",
    "  eilutę,  kurioje  yra  slidininką  identifikuojanti informacija.\n",
    "\n",
    "**Nurodymai**\n",
    "\n",
    "- Sukurkite ir parašykite funkciją, kuri surikiuoja rezultatus.\n",
    "\n",
    "- Sukurkite ir parašykite funkciją, kuri spausdina rezultatus tekstiniame faile.\n",
    "\n",
    "- Programoje nenaudokite sakinių, skirtų darbui su ekranu.\n",
    "\n",
    "**Duomenų ir rezultatų pavyzdžiai**"
   ]
  },
  {
   "cell_type": "markdown",
   "id": "94690209",
   "metadata": {},
   "source": [
    "Duomenų failo pavyzdys `U2.txt`"
   ]
  },
  {
   "cell_type": "raw",
   "id": "768b2d79",
   "metadata": {},
   "source": [
    "6\n",
    "Petras A. Petraitis 15 20 00\n",
    "Jurgis Jurgutis     16 12 12\n",
    "Rimas Jonas         15 15 59\n",
    "Zigmas Nosis        16 23 9\n",
    "Romas Senasis       15 15 15\n",
    "Rytis Uosis Ainis   16 23 9\n",
    "5\n",
    "Zigmas Nosis        16 43 15\n",
    "Petras A. Petraitis 15 50 10\n",
    "Romas Senasis       16 5 35\n",
    "Rytis Uosis Ainis   16 55 59\n",
    "Jurgis Jurgutis     16 42 22"
   ]
  },
  {
   "cell_type": "markdown",
   "id": "8383da85",
   "metadata": {},
   "source": [
    "Rezultatų failo pavyzdys `U2rez.txt`"
   ]
  },
  {
   "cell_type": "raw",
   "id": "9c972dba",
   "metadata": {},
   "source": [
    "Zigmas Nosis        20 6\n",
    "Jurgis Jurgutis     30 10\n",
    "Petras A. Petraitis 30 10\n",
    "Rytis Uosis Ainis   32 50\n",
    "Romas Senasis       50 20"
   ]
  }
 ],
 "metadata": {
  "kernelspec": {
   "display_name": "Python 3 (ipykernel)",
   "language": "python",
   "name": "python3"
  },
  "language_info": {
   "codemirror_mode": {
    "name": "ipython",
    "version": 3
   },
   "file_extension": ".py",
   "mimetype": "text/x-python",
   "name": "python",
   "nbconvert_exporter": "python",
   "pygments_lexer": "ipython3",
   "version": "3.9.7"
  }
 },
 "nbformat": 4,
 "nbformat_minor": 5
}
