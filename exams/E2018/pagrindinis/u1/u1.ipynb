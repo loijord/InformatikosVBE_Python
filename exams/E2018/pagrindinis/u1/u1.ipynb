{
 "cells": [
  {
   "cell_type": "markdown",
   "id": "c75f34a2",
   "metadata": {},
   "source": [
    "# Pirma egzamino užduotis\n",
    "https://www.nec.lt/failai/7417_IT-VBE-1_2018-GALUTINE.pdf\n",
    "\n",
    "## Vėliavėlės\n",
    "\n",
    "Darželyje  vaikai  karpė  spalvotas juosteles  ir  kiekvienas  dėliojo  į  savo\n",
    "krūveles  pagal  spalvas: geltonas  **(G)**, žalias **(Z)**  ir  raudonas\n",
    "**(R)**. Kai kurie karpė ne vienos spalvos juosteles. Po to visi vaikai iš visų\n",
    "juostelių klijavo Lietuvos Respublikos vėliavėles – ant kartono pagrindo iš\n",
    "abiejų pusių priklijavo atitinkamas juosteles. Taigi vienai vėliavėlei reikėjo\n",
    "dviejų kiekvienos spalvos juostelių. Vaikai karpė nevienodai stropiai, todėl\n",
    "juostelių galėjo būti skirtingas skaičius.\n",
    "\n",
    "Parašykite programą, kuri suskaičiuotų:\n",
    "\n",
    "- kiek buvo suklijuota vėliavėlių, jeigu jų buvo klijuojama tiek, kiek pakako\n",
    "  juostelių;\n",
    "\n",
    "- kiek kokios spalvos juostelių liko nepanaudota.\n",
    "\n",
    "**Pradiniai duomenys**\n",
    "\n",
    "Duomenys pateikiami tekstiniame faile ``U1.txt``.\n",
    "\n",
    "Duomenų faile įrašyta:\n",
    "\n",
    "- Pirmoje eilutėje užrašytas juostelių krūvelių skaičius `n` $(1 \\leq n \\leq\n",
    "  30)$.\n",
    "\n",
    "- Toliau kiekvienoje iš `n` eilučių pateikta  informacija  apie  sukarpytas\n",
    "  juosteles - krūvelės spalva (spalvos kodas: ``G``, ``Z`` arba ``R``) ir tos\n",
    "  spalvos juostelių skaičius, atskirti vienu tarpo simboliu.\n",
    "\n",
    "Visi skaičiai yra sveikieji.\n",
    "\n",
    "**Rezultatai**\n",
    "\n",
    "Rezultatus pateikite tekstiniame faile ``U1rez.txt``.\n",
    "\n",
    "- Pirmoje eilutėje įrašykite, kiek buvo suklijuota vėliavėlių.\n",
    "\n",
    "- Antroje  eilutėje  įrašykite,  kiek  liko nepanaudota geltonų\n",
    "  juostelių: rašykite spalvos  kodą ``G``, lygybės ženklą (``=``) ir juostelių\n",
    "  skaičių; lygybės ženklas iš abiejų pusių turi būti atskirtas vienu tarpo\n",
    "  simboliu.\n",
    "\n",
    "- Trečioje eilutėje tokiu pačiu būdu įrašykite žalių juostelių likutį.\n",
    "\n",
    "- Ketvirtoje eilutėje – raudonų juostelių likutį.\n",
    "\n",
    "**Nurodymai**\n",
    "\n",
    "- Sukurkite ir parašykite funkciją, kuri suskaičiuotų, kiek\n",
    "  buvo suklijuota vėliavėlių.\n",
    "\n",
    "- Programoje nenaudokite sakinių, skirtų darbui su ekranu.\n",
    "\n",
    "**Duomenų ir rezultatų pavyzdžiai**\n",
    "\n",
    "``U1.txt``"
   ]
  },
  {
   "cell_type": "raw",
   "id": "97c89327",
   "metadata": {},
   "source": [
    "5\n",
    "Z 14\n",
    "R 12\n",
    "G 20\n",
    "R 5\n",
    "R 6"
   ]
  },
  {
   "cell_type": "markdown",
   "id": "c92de536",
   "metadata": {},
   "source": [
    "``U1rez.txt``"
   ]
  },
  {
   "cell_type": "code",
   "execution_count": null,
   "id": "e8e25e6d",
   "metadata": {},
   "outputs": [],
   "source": [
    "7\n",
    "G = 6\n",
    "Z = 0\n",
    "R = 9"
   ]
  },
  {
   "cell_type": "markdown",
   "id": "0aedc9f2",
   "metadata": {},
   "source": [
    "Paaiškinimai"
   ]
  },
  {
   "cell_type": "raw",
   "id": "8973f1c9",
   "metadata": {},
   "source": [
    "+---------+----------------------------+\n",
    "|   5     |   Krūvelių skaičius        |\n",
    "|   Z 14  |   Žalių juostelių          |\n",
    "|   R 12  |   Raudonų juostelių        |\n",
    "|   G 20  |   Geltonų juostelių        |\n",
    "|   R 5   |   Raudonų juostelių        |\n",
    "|   R 6   |   Raudonų juostelių        |\n",
    "+---------+----------------------------+\n",
    "\n",
    "+---------+----------------------------+\n",
    "|   7     |   Vėliavėlių skaičius      |\n",
    "|   G = 6 |   Liko geltonų juostelių   |\n",
    "|   Z = 0 |   Liko žalių juostelių     |\n",
    "|   R = 9 |   Liko raudonų juostelių   |\n",
    "+---------+----------------------------+"
   ]
  }
 ],
 "metadata": {
  "kernelspec": {
   "display_name": "Python 3 (ipykernel)",
   "language": "python",
   "name": "python3"
  },
  "language_info": {
   "codemirror_mode": {
    "name": "ipython",
    "version": 3
   },
   "file_extension": ".py",
   "mimetype": "text/x-python",
   "name": "python",
   "nbconvert_exporter": "python",
   "pygments_lexer": "ipython3",
   "version": "3.9.7"
  }
 },
 "nbformat": 4,
 "nbformat_minor": 5
}
