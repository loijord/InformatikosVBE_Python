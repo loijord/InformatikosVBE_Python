{
 "cells": [
  {
   "cell_type": "markdown",
   "id": "77c97d08",
   "metadata": {},
   "source": [
    "Galima pasirašyti skriptą, kuris iš doktestų sugeneruoja žingsnius, naudojamus spręsti egzamino uždaviniams"
   ]
  },
  {
   "cell_type": "code",
   "execution_count": 1,
   "id": "e1fd03b8",
   "metadata": {},
   "outputs": [],
   "source": [
    "import nbimporter\n",
    "import os\n",
    "import types\n",
    "import pydoc\n",
    "import importlib\n",
    "\n",
    "def list_methods(location, condition=lambda x: True):\n",
    "    default_path = os.getcwd()\n",
    "    os.chdir(location)\n",
    "    import spr\n",
    "    importlib.reload(spr) #reimport\n",
    "    functions, docs = [], []\n",
    "    for f in vars(spr).values(): #get all methods\n",
    "        if type(f) == types.FunctionType:\n",
    "            if f.__name__ != 'get_ipython':\n",
    "                if condition(f.__name__):\n",
    "                    functions.append(f)\n",
    "\n",
    "    for f in functions:\n",
    "        x = pydoc.render_doc(f, \"Help on %s\")\n",
    "        x_split = x.split('\\n')[2:]\n",
    "        x_split[0] = 'def ' + x_split[0] + ':'\n",
    "        x_split.append('    ...')\n",
    "        docs.append('\\n'.join(x_split))\n",
    "    os.chdir(default_path)\n",
    "    return docs\n",
    "\n",
    "def get_processors(location):\n",
    "    cond = lambda x: not(x.startswith('read')) and not(x.startswith('write'))\n",
    "    return list_methods(location, cond)\n",
    "\n",
    "def get_readers(location):\n",
    "    cond = lambda x: x.startswith('read')\n",
    "    return list_methods(location, cond)\n",
    "\n",
    "def get_writers(location):\n",
    "    cond = lambda x: x.startswith('write')\n",
    "    return list_methods(location, cond)"
   ]
  },
  {
   "cell_type": "markdown",
   "id": "5e1ed81f",
   "metadata": {},
   "source": [
    "## Kaip naudotis\n",
    "Iš pradžių galima pasirinkti dominančius metodus"
   ]
  },
  {
   "cell_type": "code",
   "execution_count": 2,
   "id": "b6993c5f",
   "metadata": {},
   "outputs": [
    {
     "name": "stdout",
     "output_type": "stream",
     "text": [
      "def t\bto\bo_\b_s\bse\bec\bc(t):\n",
      "    Convert (hours, min, sec) to seconds.\n",
      "    >>> to_sec((12, 59, 59))\n",
      "    46799\n",
      "\n",
      "    ...\n",
      "def t\bto\bo_\b_M\bMS\bS(t):\n",
      "    Convert seconds to (min, sec).\n",
      "    >>> to_MS(3501)\n",
      "    (58, 21)\n",
      "\n",
      "    ...\n",
      "def s\bsu\bub\bb(tuple1, tuple2):\n",
      "    Find (hours1, min1, sec1) - (hours2, min2, sec2) given the difference is less than 1 hour.\n",
      "    USE: to_sec, to_MS\n",
      "    >>> sub((16, 43, 9), (16, 23, 15))\n",
      "    (19, 54)\n",
      "\n",
      "    ...\n",
      "def s\bsu\bub\bbt\btr\bra\bac\bct\bt(d1, d2):\n",
      "    Subtract the values of second dict from the values of first dict.\n",
      "    USE: sub\n",
      "    >>> d1 = {'A': (15, 20, 0), 'B': (16, 12, 12), 'C': (15, 15, 59), 'D': (16, 23, 9), 'E': (15, 15, 15), 'F': (16, 23, 9)}\n",
      "    >>> d2 = {'D': (16, 43, 15), 'A': (15, 50, 10), 'E': (16, 5, 35), 'F': (16, 55, 59), 'B': (16, 42, 22)}\n",
      "    >>> subtract(d1, d2)\n",
      "    {'D': (20, 6), 'A': (30, 10), 'E': (50, 20), 'F': (32, 50), 'B': (30, 10)}\n",
      "\n",
      "    ...\n",
      "def s\bso\bor\brt\bt(d):\n",
      "    Sort dict lexicographically by values.\n",
      "    >>> sort({3: (1, 2), 2: (1, 3), 1: (1, 2)})\n",
      "    {1: (1, 2), 3: (1, 2), 2: (1, 3)}\n",
      "\n",
      "    ...\n"
     ]
    }
   ],
   "source": [
    "for n in get_processors('VBE_new/E2018/pagrindinis/u2'): print(n)"
   ]
  },
  {
   "cell_type": "code",
   "execution_count": 8,
   "id": "2e6a1e55",
   "metadata": {},
   "outputs": [
    {
     "name": "stdout",
     "output_type": "stream",
     "text": [
      "def r\bre\bea\bad\bd_\b_b\bbl\blo\boc\bck\bk(lines):\n",
      "    Read block of data.   \n",
      "    >>> lines = ['Zigmas Nosis        16 43 15', 'Petras A. Petraitis 15 50 10', 'Romas Senasis       16 5 35']\n",
      "    >>> read_block(lines) # doctest: +NORMALIZE_WHITESPACE\n",
      "    {'Zigmas Nosis        ': (16, 43, 15),\n",
      "     'Petras A. Petraitis ': (15, 50, 10),\n",
      "     'Romas Senasis       ': (16, 5, 35)}\n",
      "\n",
      "    ...\n",
      "def r\bre\bea\bad\bd(name='U2.txt'):\n",
      "    Reader function for input data.\n",
      "    >>> with open('U2.txt', 'r') as f: # doctest: +NORMALIZE_WHITESPACE\n",
      "    ...    print(f.read())\n",
      "    6\n",
      "    Petras A. Petraitis 15 20 00\n",
      "    Jurgis Jurgutis     16 12 12\n",
      "    Rimas Jonas         15 15 59\n",
      "    Zigmas Nosis        16 23 9\n",
      "    Romas Senasis       15 15 15\n",
      "    Rytis Uosis Ainis   16 23 9\n",
      "    5\n",
      "    Zigmas Nosis        16 43 15\n",
      "    Petras A. Petraitis 15 50 10\n",
      "    Romas Senasis       16 5 35\n",
      "    Rytis Uosis Ainis   16 55 59\n",
      "    Jurgis Jurgutis     16 42 22\n",
      "    >>> start_db, end_db = read(name='U2.txt') \n",
      "    >>> start_db # doctest: +NORMALIZE_WHITESPACE\n",
      "    {'Petras A. Petraitis ': (15, 20, 0),\n",
      "     'Jurgis Jurgutis     ': (16, 12, 12),\n",
      "     'Rimas Jonas         ': (15, 15, 59),\n",
      "     'Zigmas Nosis        ': (16, 23, 9),\n",
      "     'Romas Senasis       ': (15, 15, 15),\n",
      "     'Rytis Uosis Ainis   ': (16, 23, 9)}\n",
      "    >>> end_db # doctest: +NORMALIZE_WHITESPACE\n",
      "     {'Zigmas Nosis        ': (16, 43, 15),\n",
      "      'Petras A. Petraitis ': (15, 50, 10),\n",
      "      'Romas Senasis       ': (16, 5, 35),\n",
      "      'Rytis Uosis Ainis   ': (16, 55, 59),\n",
      "      'Jurgis Jurgutis     ': (16, 42, 22)}\n",
      "\n",
      "    ...\n"
     ]
    }
   ],
   "source": [
    "for n in get_readers('VBE_new/E2018/pagrindinis/u2'): print(n)"
   ]
  },
  {
   "cell_type": "code",
   "execution_count": 2,
   "id": "addbfa9e",
   "metadata": {},
   "outputs": [
    {
     "name": "stdout",
     "output_type": "stream",
     "text": [
      "def w\bwr\bri\bit\bte\be(out, name='U2rez.txt'):\n",
      "    Writer function for output data.\n",
      "    \n",
      "    >>> out = {'Zigmas Nosis        ': (20, 6), 'Jurgis Jurgutis     ': (30, 10), 'Petras A. Petraitis ': (30, 10), 'Rytis Uosis Ainis   ': (32, 50), 'Romas Senasis       ': (50, 20)}\n",
      "    >>> write(out, name='U2rez.txt')\n",
      "    >>> with open('U2rez.txt', 'r') as f: # doctest: +NORMALIZE_WHITESPACE\n",
      "    ...     print(f.read())\n",
      "    Zigmas Nosis        20 6\n",
      "    Jurgis Jurgutis     30 10\n",
      "    Petras A. Petraitis 30 10\n",
      "    Rytis Uosis Ainis   32 50\n",
      "    Romas Senasis       50 20\n",
      "\n",
      "    ...\n"
     ]
    }
   ],
   "source": [
    "for n in get_writers('VBE_new/E2018/pagrindinis/u2'): print(n)"
   ]
  },
  {
   "cell_type": "markdown",
   "id": "0bd18b0e",
   "metadata": {},
   "source": [
    "Vėliau reikia užbaigti pasirinktą metodą parašyti pačiam komandas rašant daugtaškių vietoje. Taip pat dokumentacinėje eilutėje reikia padėti kabutes."
   ]
  },
  {
   "cell_type": "code",
   "execution_count": 4,
   "id": "312ddbc8",
   "metadata": {},
   "outputs": [
    {
     "data": {
      "text/plain": [
       "{1: (1, 2), 3: (1, 2), 2: (1, 3)}"
      ]
     },
     "execution_count": 4,
     "metadata": {},
     "output_type": "execute_result"
    }
   ],
   "source": [
    "def sort(d):\n",
    "    \"\"\"Sort dict lexicographically by values.\n",
    "    >>> sort({3: (1, 2), 2: (1, 3), 1: (1, 2)})\n",
    "    {1: (1, 2), 3: (1, 2), 2: (1, 3)}\"\"\"\n",
    "    \n",
    "    return {k: v for k, v in sorted(d.items(), key=lambda x: (x[1], x[0]))}\n",
    "\n",
    "sort({3: (1, 2), 2: (1, 3), 1: (1, 2)})"
   ]
  },
  {
   "cell_type": "markdown",
   "id": "f3d807ee",
   "metadata": {},
   "source": [
    "## Prieinamos užduotys\n",
    "* `'exams/E2018/pagrindinis/u1'`\n",
    "* `'exams/E2018/pagrindinis/u2'`"
   ]
  }
 ],
 "metadata": {
  "kernelspec": {
   "display_name": "Python 3 (ipykernel)",
   "language": "python",
   "name": "python3"
  },
  "language_info": {
   "codemirror_mode": {
    "name": "ipython",
    "version": 3
   },
   "file_extension": ".py",
   "mimetype": "text/x-python",
   "name": "python",
   "nbconvert_exporter": "python",
   "pygments_lexer": "ipython3",
   "version": "3.9.7"
  }
 },
 "nbformat": 4,
 "nbformat_minor": 5
}
