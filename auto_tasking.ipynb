{
 "cells": [
  {
   "cell_type": "markdown",
   "id": "77c97d08",
   "metadata": {},
   "source": [
    "Galima pasirašyti skriptą, kuris iš doktestų sugeneruoja žingsnius, naudojamus spręsti egzamino uždaviniams"
   ]
  },
  {
   "cell_type": "code",
   "execution_count": 1,
   "id": "e1fd03b8",
   "metadata": {},
   "outputs": [],
   "source": [
    "import nbimporter\n",
    "import os\n",
    "import types\n",
    "import pydoc\n",
    "import importlib\n",
    "\n",
    "def list_methods(location, condition=lambda x: True):\n",
    "    default_path = os.getcwd()\n",
    "    os.chdir(location)\n",
    "    import spr\n",
    "    importlib.reload(spr) #reimport\n",
    "    functions, docs = [], []\n",
    "    for f in vars(spr).values(): #get all methods\n",
    "        if type(f) == types.FunctionType:\n",
    "            if f.__name__ != 'get_ipython':\n",
    "                if condition(f.__name__):\n",
    "                    functions.append(f)\n",
    "\n",
    "    for f in functions:\n",
    "        x = pydoc.render_doc(f, renderer=pydoc.plaintext)\n",
    "        x_split = x.split('\\n')[2:]\n",
    "        x_split[0] = 'def ' + x_split[0] + ':'\n",
    "        x_split.append('    ...')\n",
    "        docs.append('\\n'.join(x_split))\n",
    "    os.chdir(default_path)\n",
    "    return docs\n",
    "\n",
    "def get_processors(location):\n",
    "    cond = lambda x: not(x.startswith('read')) and not(x.startswith('write'))\n",
    "    return list_methods(location, cond)\n",
    "\n",
    "def get_readers(location):\n",
    "    cond = lambda x: x.startswith('read')\n",
    "    return list_methods(location, cond)\n",
    "\n",
    "def get_writers(location):\n",
    "    cond = lambda x: x.startswith('write')\n",
    "    return list_methods(location, cond)"
   ]
  },
  {
   "cell_type": "markdown",
   "id": "5e1ed81f",
   "metadata": {},
   "source": [
    "## Kaip naudotis\n",
    "Iš pradžių galima pasirinkti dominančius metodus'\n",
    "\n",
    "*Bug: celę reikia paleisti dukart*"
   ]
  },
  {
   "cell_type": "code",
   "execution_count": 10,
   "id": "b6993c5f",
   "metadata": {},
   "outputs": [
    {
     "name": "stdout",
     "output_type": "stream",
     "text": [
      "def groupby_sum(data):\n",
      "    Find sums of values that shares common name.\n",
      "    >>> data = [('Z', 14), ('R', 12), ('G', 20), ('R', 5), ('R', 6)]\n",
      "    >>> groupby_sum(data)\n",
      "    {'Z': 14, 'R': 23, 'G': 20}\n",
      "\n",
      "    ...\n",
      "def get_flags(colors, k=2):\n",
      "    Find how many flags can you make out of piles of one-colored stickers, \n",
      "    assuming each flag consumes k units on each pile\n",
      "    >>> get_flags((14, 23, 20))\n",
      "    7\n",
      "\n",
      "    ...\n",
      "def sub(d, number):\n",
      "    Reduce all the values of dict by the same number (inplace)\n",
      "    >>> d = {'Z': 14, 'R': 23, 'G': 20}\n",
      "    >>> sub(d, 14)\n",
      "    >>> d\n",
      "    {'Z': 0, 'R': 9, 'G': 6}\n",
      "\n",
      "    ...\n"
     ]
    }
   ],
   "source": [
    "for n in get_processors('exams/E2018/pagrindinis/u1'): print(n)"
   ]
  },
  {
   "cell_type": "code",
   "execution_count": 28,
   "id": "2e6a1e55",
   "metadata": {},
   "outputs": [
    {
     "name": "stdout",
     "output_type": "stream",
     "text": [
      "def read_block(lines):\n",
      "    Read block of data.   \n",
      "    >>> lines = ['Zigmas Nosis        16 43 15', 'Petras A. Petraitis 15 50 10', 'Romas Senasis       16 5 35']\n",
      "    >>> read_block(lines) # doctest: +NORMALIZE_WHITESPACE\n",
      "    {'Zigmas Nosis        ': (16, 43, 15),\n",
      "     'Petras A. Petraitis ': (15, 50, 10),\n",
      "     'Romas Senasis       ': (16, 5, 35)}\n",
      "\n",
      "    ...\n",
      "def read(name='U2.txt'):\n",
      "    Reader function for input data.\n",
      "    >>> with open('U2.txt', 'r') as f: # doctest: +NORMALIZE_WHITESPACE\n",
      "    ...    print(f.read())\n",
      "    6\n",
      "    Petras A. Petraitis 15 20 00\n",
      "    Jurgis Jurgutis     16 12 12\n",
      "    Rimas Jonas         15 15 59\n",
      "    Zigmas Nosis        16 23 9\n",
      "    Romas Senasis       15 15 15\n",
      "    Rytis Uosis Ainis   16 23 9\n",
      "    5\n",
      "    Zigmas Nosis        16 43 15\n",
      "    Petras A. Petraitis 15 50 10\n",
      "    Romas Senasis       16 5 35\n",
      "    Rytis Uosis Ainis   16 55 59\n",
      "    Jurgis Jurgutis     16 42 22\n",
      "    >>> start_db, end_db = read(name='U2.txt') \n",
      "    >>> start_db # doctest: +NORMALIZE_WHITESPACE\n",
      "    {'Petras A. Petraitis ': (15, 20, 0),\n",
      "     'Jurgis Jurgutis     ': (16, 12, 12),\n",
      "     'Rimas Jonas         ': (15, 15, 59),\n",
      "     'Zigmas Nosis        ': (16, 23, 9),\n",
      "     'Romas Senasis       ': (15, 15, 15),\n",
      "     'Rytis Uosis Ainis   ': (16, 23, 9)}\n",
      "    >>> end_db # doctest: +NORMALIZE_WHITESPACE\n",
      "     {'Zigmas Nosis        ': (16, 43, 15),\n",
      "      'Petras A. Petraitis ': (15, 50, 10),\n",
      "      'Romas Senasis       ': (16, 5, 35),\n",
      "      'Rytis Uosis Ainis   ': (16, 55, 59),\n",
      "      'Jurgis Jurgutis     ': (16, 42, 22)}\n",
      "\n",
      "    ...\n"
     ]
    }
   ],
   "source": [
    "for n in get_readers('exams/E2018/pagrindinis/u2'): \n",
    "    print(n)"
   ]
  },
  {
   "cell_type": "code",
   "execution_count": 26,
   "id": "addbfa9e",
   "metadata": {},
   "outputs": [
    {
     "name": "stdout",
     "output_type": "stream",
     "text": [
      "def write(flags, d, name='U1rez.txt'):\n",
      "    Writer function for output data.    \n",
      "    >>> flags, d = 7, {'Z': 0, 'R': 9, 'G': 6}\n",
      "    >>> write(flags, d, name='U1rez.txt')\n",
      "    >>> with open('U1rez.txt', 'r') as f: # doctest: +NORMALIZE_WHITESPACE\n",
      "    ...     print(f.read())\n",
      "    7\n",
      "    G = 6\n",
      "    Z = 0\n",
      "    R = 9\n",
      "\n",
      "    ...\n"
     ]
    }
   ],
   "source": [
    "for n in get_writers('exams/E2018/pagrindinis/u1'): print(n)"
   ]
  },
  {
   "cell_type": "markdown",
   "id": "0bd18b0e",
   "metadata": {},
   "source": [
    "Vėliau reikia užbaigti pasirinktą metodą parašyti pačiam komandas rašant daugtaškių vietoje. Taip pat dokumentacinėje eilutėje reikia padėti kabutes."
   ]
  },
  {
   "cell_type": "code",
   "execution_count": 4,
   "id": "312ddbc8",
   "metadata": {},
   "outputs": [
    {
     "data": {
      "text/plain": [
       "{1: (1, 2), 3: (1, 2), 2: (1, 3)}"
      ]
     },
     "execution_count": 4,
     "metadata": {},
     "output_type": "execute_result"
    }
   ],
   "source": [
    "def sort(d):\n",
    "    \"\"\"Sort dict lexicographically by values.\n",
    "    >>> sort({3: (1, 2), 2: (1, 3), 1: (1, 2)})\n",
    "    {1: (1, 2), 3: (1, 2), 2: (1, 3)}\"\"\"\n",
    "    \n",
    "    return {k: v for k, v in sorted(d.items(), key=lambda x: (x[1], x[0]))}\n",
    "\n",
    "sort({3: (1, 2), 2: (1, 3), 1: (1, 2)})"
   ]
  },
  {
   "cell_type": "markdown",
   "id": "f3d807ee",
   "metadata": {},
   "source": [
    "## Prieinamos užduotys\n",
    "* `'exams/E2018/pagrindinis/u1'`\n",
    "* `'exams/E2018/pagrindinis/u2'`"
   ]
  }
 ],
 "metadata": {
  "kernelspec": {
   "display_name": "Python 3 (ipykernel)",
   "language": "python",
   "name": "python3"
  },
  "language_info": {
   "codemirror_mode": {
    "name": "ipython",
    "version": 3
   },
   "file_extension": ".py",
   "mimetype": "text/x-python",
   "name": "python",
   "nbconvert_exporter": "python",
   "pygments_lexer": "ipython3",
   "version": "3.9.7"
  }
 },
 "nbformat": 4,
 "nbformat_minor": 5
}
